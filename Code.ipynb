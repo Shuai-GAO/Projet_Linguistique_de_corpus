{
 "cells": [
  {
   "cell_type": "code",
   "execution_count": 5,
   "metadata": {},
   "outputs": [
    {
     "name": "stdout",
     "output_type": "stream",
     "text": [
      "4046\n",
      "297\n"
     ]
    }
   ],
   "source": [
    "# Analyse effectuée sur la page Weibo de l'individu, ZHAI Tianlin\n",
    "import pandas as pd\n",
    "df = pd.read_excel('翟天临.xlsx')\n",
    "df = df.fillna(\"\")\n",
    "\n",
    "dict_a = [\"翟天临\", \"天临\", \"老翟\", \"翟\", \"ztl\", \"翟同学\",\n",
    "          \"您\", \"你\", \"他\", \n",
    "          \"翟天臨\", \"天臨\", \"翟同學\",\n",
    "          \"妳\",]\n",
    "# Le \"dict_a\" contient des variations possibles des appellations pour l'individu que nous prédisons.\n",
    "\n",
    "dict_b = [\"北大\", \"北京大学\", \"北京大学光华管理学院\", \"光华\", \"光华管理学院\", \"北电\", \"北京电影学院\", \"电影学院\",\n",
    "          \"大学\", \"学术圈\", \"学校\",\n",
    "          \"导师\", \"老师\", \"博导\", \"陈浥\",\n",
    "          \"院长\", \"委员会\", \"答辩委员会\", \"论文审核组\",\n",
    "          \"北京大學\", \"北京大學光華管理學院\", \"光華\", \"光華管理學院\", \"北電\", \"北京電影學院\", \"電影學院\",\n",
    "          \"大學\", \"學術圈\", \"學校\",\n",
    "          \"導師\", \"老師\", \"博導\", \"陳浥\",\n",
    "          \"院長\", \"委員會\", \"答辯委員會\", \"論文審核組\"]\n",
    "# Le \"dict_b\" contient des variations possibles des appellations pour l'environnement que nous prédisons.\n",
    "\n",
    "count_a = 0\n",
    "count_b = 0\n",
    "for i in range(len(df)):\n",
    "    for j in range(len(dict_a)):\n",
    "        if dict_a[j] in df.loc[i,'评论内容']:\n",
    "            count_a += 1\n",
    "    for j in range(len(dict_b)):\n",
    "        if dict_b[j] in df.loc[i,'评论内容']:\n",
    "            count_b += 1\n",
    "            \n",
    "print(count_a)\n",
    "print(count_b)"
   ]
  },
  {
   "cell_type": "code",
   "execution_count": 6,
   "metadata": {},
   "outputs": [
    {
     "name": "stdout",
     "output_type": "stream",
     "text": [
      "89\n",
      "113\n"
     ]
    }
   ],
   "source": [
    "# Analyse effectuée sur la page Weibo de l'Université de Pékin\n",
    "import pandas as pd\n",
    "df = pd.read_excel('北京大学.xlsx')\n",
    "df = df.fillna(\"\")\n",
    "\n",
    "dict_a = [\"翟天临\", \"天临\", \"老翟\", \"翟\", \"ztl\", \"翟同学\",\n",
    "          \"您\", \"你\", \"他\", \n",
    "          \"翟天臨\", \"天臨\", \"翟同學\",\n",
    "          \"妳\",]\n",
    "# Le \"dict_a\" contient des variations possibles des appellations pour l'individu que nous prédisons.\n",
    "\n",
    "dict_b = [\"北大\", \"北京大学\", \"北京大学光华管理学院\", \"光华\", \"光华管理学院\", \"北电\", \"北京电影学院\", \"电影学院\",\n",
    "          \"大学\", \"学术圈\", \"学校\",\n",
    "          \"导师\", \"老师\", \"博导\", \"陈浥\",\n",
    "          \"院长\", \"委员会\", \"答辩委员会\", \"论文审核组\",\n",
    "          \"北京大學\", \"北京大學光華管理學院\", \"光華\", \"光華管理學院\", \"北電\", \"北京電影學院\", \"電影學院\",\n",
    "          \"大學\", \"學術圈\", \"學校\",\n",
    "          \"導師\", \"老師\", \"博導\", \"陳浥\",\n",
    "          \"院長\", \"委員會\", \"答辯委員會\", \"論文審核組\"]\n",
    "# Le \"dict_b\" contient des variations possibles des appellations pour l'environnement que nous prédisons.\n",
    "\n",
    "count_a = 0\n",
    "count_b = 0\n",
    "for i in range(len(df)):\n",
    "    for j in range(len(dict_a)):\n",
    "        if dict_a[j] in df.loc[i,'评论内容']:\n",
    "            count_a += 1\n",
    "    for j in range(len(dict_b)):\n",
    "        if dict_b[j] in df.loc[i,'评论内容']:\n",
    "            count_b += 1\n",
    "            \n",
    "print(count_a)\n",
    "print(count_b)"
   ]
  },
  {
   "cell_type": "code",
   "execution_count": 1,
   "metadata": {},
   "outputs": [
    {
     "name": "stdout",
     "output_type": "stream",
     "text": [
      "2854\n",
      "2071\n"
     ]
    }
   ],
   "source": [
    "# Analyse effectuée sur la page Weibo de l'Université de cinéma de Pékin\n",
    "import pandas as pd\n",
    "df = pd.read_excel('北京电影学院.xlsx')\n",
    "df = df.fillna(\"\")\n",
    "\n",
    "dict_a = [\"翟天临\", \"天临\", \"老翟\", \"翟\", \"ztl\", \"翟同学\",\n",
    "          \"您\", \"你\", \"他\", \n",
    "          \"翟天臨\", \"天臨\", \"翟同學\",\n",
    "          \"妳\",]\n",
    "# Le \"dict_a\" contient des variations possibles des appellations pour l'individu que nous prédisons.\n",
    "\n",
    "dict_b = [\"北大\", \"北京大学\", \"北京大学光华管理学院\", \"光华\", \"光华管理学院\", \"北电\", \"北京电影学院\", \"电影学院\",\n",
    "          \"大学\", \"学术圈\", \"学校\",\n",
    "          \"导师\", \"老师\", \"博导\", \"陈浥\",\n",
    "          \"院长\", \"委员会\", \"答辩委员会\", \"论文审核组\",\n",
    "          \"北京大學\", \"北京大學光華管理學院\", \"光華\", \"光華管理學院\", \"北電\", \"北京電影學院\", \"電影學院\",\n",
    "          \"大學\", \"學術圈\", \"學校\",\n",
    "          \"導師\", \"老師\", \"博導\", \"陳浥\",\n",
    "          \"院長\", \"委員會\", \"答辯委員會\", \"論文審核組\"]\n",
    "# Le \"dict_b\" contient des variations possibles des appellations pour l'environnement que nous prédisons.\n",
    "\n",
    "count_a = 0\n",
    "count_b = 0\n",
    "for i in range(len(df)):\n",
    "    for j in range(len(dict_a)):\n",
    "        if dict_a[j] in df.loc[i,'评论内容']:\n",
    "            count_a += 1\n",
    "    for j in range(len(dict_b)):\n",
    "        if dict_b[j] in df.loc[i,'评论内容']:\n",
    "            count_b += 1\n",
    "            \n",
    "print(count_a)\n",
    "print(count_b)"
   ]
  },
  {
   "cell_type": "code",
   "execution_count": 2,
   "metadata": {},
   "outputs": [
    {
     "name": "stdout",
     "output_type": "stream",
     "text": [
      "131\n",
      "149\n"
     ]
    }
   ],
   "source": [
    "# Analyse effectuée sur la page Weibo du Quotidien du Peuple, presse écrite chinoise\n",
    "import pandas as pd\n",
    "df = pd.read_excel('人民日报.xlsx')\n",
    "df = df.fillna(\"\")\n",
    "\n",
    "dict_a = [\"翟天临\", \"天临\", \"老翟\", \"翟\", \"ztl\", \"翟同学\",\n",
    "          \"您\", \"你\", \"他\", \n",
    "          \"翟天臨\", \"天臨\", \"翟同學\",\n",
    "          \"妳\",]\n",
    "# Le \"dict_a\" contient des variations possibles des appellations pour l'individu que nous prédisons.\n",
    "\n",
    "dict_b = [\"北大\", \"北京大学\", \"北京大学光华管理学院\", \"光华\", \"光华管理学院\", \"北电\", \"北京电影学院\", \"电影学院\",\n",
    "          \"大学\", \"学术圈\", \"学校\",\n",
    "          \"导师\", \"老师\", \"博导\", \"陈浥\",\n",
    "          \"院长\", \"委员会\", \"答辩委员会\", \"论文审核组\",\n",
    "          \"北京大學\", \"北京大學光華管理學院\", \"光華\", \"光華管理學院\", \"北電\", \"北京電影學院\", \"電影學院\",\n",
    "          \"大學\", \"學術圈\", \"學校\",\n",
    "          \"導師\", \"老師\", \"博導\", \"陳浥\",\n",
    "          \"院長\", \"委員會\", \"答辯委員會\", \"論文審核組\"]\n",
    "# Le \"dict_b\" contient des variations possibles des appellations pour l'environnement que nous prédisons.\n",
    "\n",
    "count_a = 0\n",
    "count_b = 0\n",
    "for i in range(len(df)):\n",
    "    for j in range(len(dict_a)):\n",
    "        if dict_a[j] in df.loc[i,'评论内容']:\n",
    "            count_a += 1\n",
    "    for j in range(len(dict_b)):\n",
    "        if dict_b[j] in df.loc[i,'评论内容']:\n",
    "            count_b += 1\n",
    "            \n",
    "print(count_a)\n",
    "print(count_b)"
   ]
  },
  {
   "cell_type": "code",
   "execution_count": 9,
   "metadata": {},
   "outputs": [
    {
     "name": "stdout",
     "output_type": "stream",
     "text": [
      "183\n",
      "125\n"
     ]
    }
   ],
   "source": [
    "# Analyse effectuée sur la page Weibo du Divertissement de SINA\n",
    "import pandas as pd\n",
    "df = pd.read_excel('新浪娱乐.xlsx')\n",
    "df = df.fillna(\"\")\n",
    "\n",
    "dict_a = [\"翟天临\", \"天临\", \"老翟\", \"翟\", \"ztl\", \"翟同学\",\n",
    "          \"您\", \"你\", \"他\", \n",
    "          \"翟天臨\", \"天臨\", \"翟同學\",\n",
    "          \"妳\",]\n",
    "# Le \"dict_a\" contient des variations possibles des appellations pour l'individu que nous prédisons.\n",
    "\n",
    "dict_b = [\"北大\", \"北京大学\", \"北京大学光华管理学院\", \"光华\", \"光华管理学院\", \"北电\", \"北京电影学院\", \"电影学院\",\n",
    "          \"大学\", \"学术圈\", \"学校\",\n",
    "          \"导师\", \"老师\", \"博导\", \"陈浥\",\n",
    "          \"院长\", \"委员会\", \"答辩委员会\", \"论文审核组\",\n",
    "          \"北京大學\", \"北京大學光華管理學院\", \"光華\", \"光華管理學院\", \"北電\", \"北京電影學院\", \"電影學院\",\n",
    "          \"大學\", \"學術圈\", \"學校\",\n",
    "          \"導師\", \"老師\", \"博導\", \"陳浥\",\n",
    "          \"院長\", \"委員會\", \"答辯委員會\", \"論文審核組\"]\n",
    "# Le \"dict_b\" contient des variations possibles des appellations pour l'environnement que nous prédisons.\n",
    "\n",
    "count_a = 0\n",
    "count_b = 0\n",
    "for i in range(len(df)):\n",
    "    for j in range(len(dict_a)):\n",
    "        if dict_a[j] in df.loc[i,'评论内容']:\n",
    "            count_a += 1\n",
    "    for j in range(len(dict_b)):\n",
    "        if dict_b[j] in df.loc[i,'评论内容']:\n",
    "            count_b += 1\n",
    "            \n",
    "print(count_a)\n",
    "print(count_b)"
   ]
  },
  {
   "cell_type": "code",
   "execution_count": 10,
   "metadata": {},
   "outputs": [
    {
     "name": "stdout",
     "output_type": "stream",
     "text": [
      "847\n",
      "46\n"
     ]
    }
   ],
   "source": [
    "# Analyse effectuée sur la page Weibo d'un self-media connu, Yulequanshenping\n",
    "import pandas as pd\n",
    "df = pd.read_excel('娱乐圈神评.xlsx')\n",
    "df = df.fillna(\"\")\n",
    "\n",
    "dict_a = [\"翟天临\", \"天临\", \"老翟\", \"翟\", \"ztl\", \"翟同学\",\n",
    "          \"您\", \"你\", \"他\", \n",
    "          \"翟天臨\", \"天臨\", \"翟同學\",\n",
    "          \"妳\",]\n",
    "# Le \"dict_a\" contient des variations possibles des appellations pour l'individu que nous prédisons.\n",
    "\n",
    "dict_b = [\"北大\", \"北京大学\", \"北京大学光华管理学院\", \"光华\", \"光华管理学院\", \"北电\", \"北京电影学院\", \"电影学院\",\n",
    "          \"大学\", \"学术圈\", \"学校\",\n",
    "          \"导师\", \"老师\", \"博导\", \"陈浥\",\n",
    "          \"院长\", \"委员会\", \"答辩委员会\", \"论文审核组\",\n",
    "          \"北京大學\", \"北京大學光華管理學院\", \"光華\", \"光華管理學院\", \"北電\", \"北京電影學院\", \"電影學院\",\n",
    "          \"大學\", \"學術圈\", \"學校\",\n",
    "          \"導師\", \"老師\", \"博導\", \"陳浥\",\n",
    "          \"院長\", \"委員會\", \"答辯委員會\", \"論文審核組\"]\n",
    "# Le \"dict_b\" contient des variations possibles des appellations pour l'environnement que nous prédisons.\n",
    "\n",
    "count_a = 0\n",
    "count_b = 0\n",
    "for i in range(len(df)):\n",
    "    for j in range(len(dict_a)):\n",
    "        if dict_a[j] in df.loc[i,'评论内容']:\n",
    "            count_a += 1\n",
    "    for j in range(len(dict_b)):\n",
    "        if dict_b[j] in df.loc[i,'评论内容']:\n",
    "            count_b += 1\n",
    "            \n",
    "print(count_a)\n",
    "print(count_b)"
   ]
  }
 ],
 "metadata": {
  "kernelspec": {
   "display_name": "Python 3",
   "language": "python",
   "name": "python3"
  },
  "language_info": {
   "codemirror_mode": {
    "name": "ipython",
    "version": 3
   },
   "file_extension": ".py",
   "mimetype": "text/x-python",
   "name": "python",
   "nbconvert_exporter": "python",
   "pygments_lexer": "ipython3",
   "version": "3.7.3"
  }
 },
 "nbformat": 4,
 "nbformat_minor": 2
}
